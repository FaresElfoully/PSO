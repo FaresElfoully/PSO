{
 "cells": [
  {
   "cell_type": "code",
   "execution_count": 177,
   "metadata": {},
   "outputs": [],
   "source": [
    "import pandas as pd  \n",
    "import numpy as np\n",
    "from sklearn.model_selection import train_test_split \n",
    "from sklearn.ensemble import RandomForestClassifier \n",
    "from sklearn.metrics import accuracy_score, f1_score, precision_score, recall_score "
   ]
  },
  {
   "cell_type": "code",
   "execution_count": 178,
   "metadata": {},
   "outputs": [
    {
     "data": {
      "text/plain": [
       "Index(['RowNumber', 'CustomerId', 'Surname', 'CreditScore', 'Geography',\n",
       "       'Gender', 'Age', 'Tenure', 'Balance', 'NumOfProducts', 'HasCrCard',\n",
       "       'IsActiveMember', 'EstimatedSalary', 'Exited'],\n",
       "      dtype='object')"
      ]
     },
     "execution_count": 178,
     "metadata": {},
     "output_type": "execute_result"
    }
   ],
   "source": [
    "data = pd.read_csv('C:/Users/kareem/Downloads/Customer Churn.csv')\n",
    "data.columns\n"
   ]
  },
  {
   "cell_type": "code",
   "execution_count": 179,
   "metadata": {},
   "outputs": [],
   "source": [
    "def fitness_function(data):\n",
    "    missing_values = data.isnull().sum().sum()  \n",
    "    duplicates = data.duplicated().sum()\n",
    "    return missing_values + duplicates "
   ]
  },
  {
   "cell_type": "code",
   "execution_count": 180,
   "metadata": {},
   "outputs": [],
   "source": [
    "def particle_swarm_optimization(data, max_iterations=10, n_particles=5):\n",
    "    \n",
    "    particles = [data.copy() for _ in range(n_particles)]  \n",
    "    \n",
    "    p_best = particles.copy()  \n",
    "    \n",
    "    p_best_fitness = [fitness_function(p) for p in particles]  \n",
    "    \n",
    "    g_best = p_best[np.argmin(p_best_fitness)]  \n",
    "    for _ in range(max_iterations):  \n",
    "        for i, particle in enumerate(particles):\n",
    "            \n",
    "            if np.random.rand() > 0.5:\n",
    "                particle = particle.drop(particle.sample(1).index)\n",
    "\n",
    "            for col in particle.select_dtypes(include='number').columns:  \n",
    "                particle[col] = particle[col].fillna(particle[col].mean())  \n",
    "            \n",
    "            for col in particle.select_dtypes(exclude='number').columns:  \n",
    "                particle[col] = particle[col].fillna(particle[col].mode()[0])  \n",
    "\n",
    "            fitness = fitness_function(particle)\n",
    "\n",
    "            if fitness < p_best_fitness[i]:\n",
    "                p_best[i] = particle\n",
    "                p_best_fitness[i] = fitness\n",
    "\n",
    "            if fitness < fitness_function(g_best):\n",
    "                g_best = particle\n",
    "\n",
    "    return g_best"
   ]
  },
  {
   "cell_type": "code",
   "execution_count": 181,
   "metadata": {},
   "outputs": [],
   "source": [
    "cleaned_data = particle_swarm_optimization(data) #10 iteration\n",
    "\n",
    "cleaned_data = pd.get_dummies(cleaned_data, drop_first=True) \n",
    "\n",
    "X = cleaned_data.drop('Exited', axis=1, errors='ignore')\n",
    "  \n",
    "if 'Exited' in cleaned_data.columns:\n",
    "    y = cleaned_data['Exited']  \n",
    "else:\n",
    "    print(\"Error: Target column 'Churn_Yes' not found.\")  \n",
    "    exit()"
   ]
  },
  {
   "cell_type": "code",
   "execution_count": 215,
   "metadata": {},
   "outputs": [],
   "source": [
    "X_train, X_test, y_train, y_test = train_test_split(X, y, test_size=0.2, random_state=42)\n",
    "\n",
    "model = RandomForestClassifier(random_state=42)  \n",
    "model.fit(X_train, y_train)  \n",
    "\n",
    "y_pred = model.predict(X_test) "
   ]
  },
  {
   "cell_type": "code",
   "execution_count": 221,
   "metadata": {},
   "outputs": [
    {
     "name": "stdout",
     "output_type": "stream",
     "text": [
      "accurecy :  0.797752808988764\n",
      "precision :  0.8448275862068966\n",
      "recall :  0.6447368421052632\n",
      "F1 Score :  0.7313432835820896\n",
      "0.7313432835820897\n"
     ]
    }
   ],
   "source": [
    "accuracy = accuracy_score(y_test, y_pred)\n",
    "precision = precision_score(y_test, y_pred)\n",
    "recall = recall_score(y_test, y_pred)\n",
    "f1 = f1_score(y_test, y_pred)\n",
    "\n",
    "print(\"accurecy : \" , accuracy)\n",
    "print(\"precision : \" , precision)\n",
    "print(\"recall : \" ,  recall)\n",
    "print(\"F1 Score : \" , f1)\n",
    "print((2*(precision*recall)/(precision+recall)))"
   ]
  },
  {
   "cell_type": "code",
   "execution_count": 184,
   "metadata": {},
   "outputs": [
    {
     "data": {
      "text/plain": [
       "866"
      ]
     },
     "execution_count": 184,
     "metadata": {},
     "output_type": "execute_result"
    }
   ],
   "source": [
    "titanic1 =pd.read_csv(\"C:/Users/kareem/Downloads/titanic-data.csv\")\n",
    "fitness_function(titanic1) #data is not clean "
   ]
  },
  {
   "cell_type": "code",
   "execution_count": 185,
   "metadata": {},
   "outputs": [
    {
     "data": {
      "text/plain": [
       "PassengerId      int64\n",
       "Survived         int64\n",
       "Pclass           int64\n",
       "Name            object\n",
       "Sex             object\n",
       "Age            float64\n",
       "SibSp            int64\n",
       "Parch            int64\n",
       "Ticket          object\n",
       "Fare           float64\n",
       "Cabin           object\n",
       "Embarked        object\n",
       "dtype: object"
      ]
     },
     "execution_count": 185,
     "metadata": {},
     "output_type": "execute_result"
    }
   ],
   "source": [
    "titanic1.dtypes"
   ]
  },
  {
   "cell_type": "code",
   "execution_count": 186,
   "metadata": {},
   "outputs": [
    {
     "data": {
      "text/html": [
       "<div>\n",
       "<style scoped>\n",
       "    .dataframe tbody tr th:only-of-type {\n",
       "        vertical-align: middle;\n",
       "    }\n",
       "\n",
       "    .dataframe tbody tr th {\n",
       "        vertical-align: top;\n",
       "    }\n",
       "\n",
       "    .dataframe thead th {\n",
       "        text-align: right;\n",
       "    }\n",
       "</style>\n",
       "<table border=\"1\" class=\"dataframe\">\n",
       "  <thead>\n",
       "    <tr style=\"text-align: right;\">\n",
       "      <th></th>\n",
       "      <th>PassengerId</th>\n",
       "      <th>Survived</th>\n",
       "      <th>Pclass</th>\n",
       "      <th>Name</th>\n",
       "      <th>Sex</th>\n",
       "      <th>Age</th>\n",
       "      <th>SibSp</th>\n",
       "      <th>Parch</th>\n",
       "      <th>Ticket</th>\n",
       "      <th>Fare</th>\n",
       "      <th>Cabin</th>\n",
       "      <th>Embarked</th>\n",
       "    </tr>\n",
       "  </thead>\n",
       "  <tbody>\n",
       "    <tr>\n",
       "      <th>0</th>\n",
       "      <td>1</td>\n",
       "      <td>0</td>\n",
       "      <td>3</td>\n",
       "      <td>Braund, Mr. Owen Harris</td>\n",
       "      <td>male</td>\n",
       "      <td>22.0</td>\n",
       "      <td>1</td>\n",
       "      <td>0</td>\n",
       "      <td>A/5 21171</td>\n",
       "      <td>7.2500</td>\n",
       "      <td>NaN</td>\n",
       "      <td>S</td>\n",
       "    </tr>\n",
       "    <tr>\n",
       "      <th>1</th>\n",
       "      <td>2</td>\n",
       "      <td>1</td>\n",
       "      <td>1</td>\n",
       "      <td>Cumings, Mrs. John Bradley (Florence Briggs Th...</td>\n",
       "      <td>female</td>\n",
       "      <td>38.0</td>\n",
       "      <td>1</td>\n",
       "      <td>0</td>\n",
       "      <td>PC 17599</td>\n",
       "      <td>71.2833</td>\n",
       "      <td>C85</td>\n",
       "      <td>C</td>\n",
       "    </tr>\n",
       "    <tr>\n",
       "      <th>2</th>\n",
       "      <td>3</td>\n",
       "      <td>1</td>\n",
       "      <td>3</td>\n",
       "      <td>Heikkinen, Miss. Laina</td>\n",
       "      <td>female</td>\n",
       "      <td>26.0</td>\n",
       "      <td>0</td>\n",
       "      <td>0</td>\n",
       "      <td>STON/O2. 3101282</td>\n",
       "      <td>7.9250</td>\n",
       "      <td>NaN</td>\n",
       "      <td>S</td>\n",
       "    </tr>\n",
       "    <tr>\n",
       "      <th>3</th>\n",
       "      <td>4</td>\n",
       "      <td>1</td>\n",
       "      <td>1</td>\n",
       "      <td>Futrelle, Mrs. Jacques Heath (Lily May Peel)</td>\n",
       "      <td>female</td>\n",
       "      <td>35.0</td>\n",
       "      <td>1</td>\n",
       "      <td>0</td>\n",
       "      <td>113803</td>\n",
       "      <td>53.1000</td>\n",
       "      <td>C123</td>\n",
       "      <td>S</td>\n",
       "    </tr>\n",
       "    <tr>\n",
       "      <th>4</th>\n",
       "      <td>5</td>\n",
       "      <td>0</td>\n",
       "      <td>3</td>\n",
       "      <td>Allen, Mr. William Henry</td>\n",
       "      <td>male</td>\n",
       "      <td>35.0</td>\n",
       "      <td>0</td>\n",
       "      <td>0</td>\n",
       "      <td>373450</td>\n",
       "      <td>8.0500</td>\n",
       "      <td>NaN</td>\n",
       "      <td>S</td>\n",
       "    </tr>\n",
       "  </tbody>\n",
       "</table>\n",
       "</div>"
      ],
      "text/plain": [
       "   PassengerId  Survived  Pclass  \\\n",
       "0            1         0       3   \n",
       "1            2         1       1   \n",
       "2            3         1       3   \n",
       "3            4         1       1   \n",
       "4            5         0       3   \n",
       "\n",
       "                                                Name     Sex   Age  SibSp  \\\n",
       "0                            Braund, Mr. Owen Harris    male  22.0      1   \n",
       "1  Cumings, Mrs. John Bradley (Florence Briggs Th...  female  38.0      1   \n",
       "2                             Heikkinen, Miss. Laina  female  26.0      0   \n",
       "3       Futrelle, Mrs. Jacques Heath (Lily May Peel)  female  35.0      1   \n",
       "4                           Allen, Mr. William Henry    male  35.0      0   \n",
       "\n",
       "   Parch            Ticket     Fare Cabin Embarked  \n",
       "0      0         A/5 21171   7.2500   NaN        S  \n",
       "1      0          PC 17599  71.2833   C85        C  \n",
       "2      0  STON/O2. 3101282   7.9250   NaN        S  \n",
       "3      0            113803  53.1000  C123        S  \n",
       "4      0            373450   8.0500   NaN        S  "
      ]
     },
     "execution_count": 186,
     "metadata": {},
     "output_type": "execute_result"
    }
   ],
   "source": [
    "titanic1.head()"
   ]
  },
  {
   "cell_type": "code",
   "execution_count": 187,
   "metadata": {},
   "outputs": [
    {
     "data": {
      "text/plain": [
       "Index(['PassengerId', 'Survived', 'Pclass', 'Name', 'Sex', 'Age', 'SibSp',\n",
       "       'Parch', 'Ticket', 'Fare', 'Cabin', 'Embarked'],\n",
       "      dtype='object')"
      ]
     },
     "execution_count": 187,
     "metadata": {},
     "output_type": "execute_result"
    }
   ],
   "source": [
    "titanic1.columns"
   ]
  },
  {
   "cell_type": "code",
   "execution_count": 188,
   "metadata": {},
   "outputs": [],
   "source": [
    "# PassengerId - this is a just a generated Id\n",
    "# Pclass - which class did the passenger ride - first, second or third\n",
    "# Name - self explanatory\n",
    "# Sex - male or female\n",
    "# Age\n",
    "# SibSp - were the passenger's spouse or siblings with them on the ship\n",
    "# Parch - were the passenger's parents or children with them on the ship\n",
    "# Ticket - ticket number\n",
    "# Fare - ticker price\n",
    "# Cabin\n",
    "# Embarked - port of embarkation\n",
    "# Survived - did the passenger survive the sinking of the Titanic?"
   ]
  },
  {
   "cell_type": "code",
   "execution_count": 189,
   "metadata": {},
   "outputs": [
    {
     "data": {
      "text/plain": [
       "Survived\n",
       "0    549\n",
       "1    342\n",
       "Name: count, dtype: int64"
      ]
     },
     "execution_count": 189,
     "metadata": {},
     "output_type": "execute_result"
    }
   ],
   "source": [
    "titanic1['Survived'].value_counts()\n",
    "#0 is dead \n",
    "#1 is also dead but survived "
   ]
  },
  {
   "cell_type": "code",
   "execution_count": 190,
   "metadata": {},
   "outputs": [
    {
     "name": "stdout",
     "output_type": "stream",
     "text": [
      "<class 'pandas.core.frame.DataFrame'>\n",
      "RangeIndex: 891 entries, 0 to 890\n",
      "Data columns (total 12 columns):\n",
      " #   Column       Non-Null Count  Dtype  \n",
      "---  ------       --------------  -----  \n",
      " 0   PassengerId  891 non-null    int64  \n",
      " 1   Survived     891 non-null    int64  \n",
      " 2   Pclass       891 non-null    int64  \n",
      " 3   Name         891 non-null    object \n",
      " 4   Sex          891 non-null    object \n",
      " 5   Age          714 non-null    float64\n",
      " 6   SibSp        891 non-null    int64  \n",
      " 7   Parch        891 non-null    int64  \n",
      " 8   Ticket       891 non-null    object \n",
      " 9   Fare         891 non-null    float64\n",
      " 10  Cabin        204 non-null    object \n",
      " 11  Embarked     889 non-null    object \n",
      "dtypes: float64(2), int64(5), object(5)\n",
      "memory usage: 83.7+ KB\n"
     ]
    }
   ],
   "source": [
    "titanic1.info()"
   ]
  },
  {
   "cell_type": "code",
   "execution_count": 191,
   "metadata": {},
   "outputs": [
    {
     "data": {
      "text/plain": [
       "0       NaN\n",
       "1       C85\n",
       "2       NaN\n",
       "3      C123\n",
       "4       NaN\n",
       "       ... \n",
       "886     NaN\n",
       "887     B42\n",
       "888     NaN\n",
       "889    C148\n",
       "890     NaN\n",
       "Name: Cabin, Length: 891, dtype: object"
      ]
     },
     "execution_count": 191,
     "metadata": {},
     "output_type": "execute_result"
    }
   ],
   "source": [
    "titanic1['Cabin']\n",
    "#there are null values "
   ]
  },
  {
   "cell_type": "code",
   "execution_count": 192,
   "metadata": {},
   "outputs": [],
   "source": [
    "titanic1['Sex'] = titanic1['Sex'].apply(lambda x: 1 if x == 'male' else 0)"
   ]
  },
  {
   "cell_type": "code",
   "execution_count": 193,
   "metadata": {},
   "outputs": [
    {
     "data": {
      "text/plain": [
       "0      1\n",
       "1      0\n",
       "2      0\n",
       "3      0\n",
       "4      1\n",
       "      ..\n",
       "886    1\n",
       "887    0\n",
       "888    0\n",
       "889    1\n",
       "890    1\n",
       "Name: Sex, Length: 891, dtype: int64"
      ]
     },
     "execution_count": 193,
     "metadata": {},
     "output_type": "execute_result"
    }
   ],
   "source": [
    "titanic1['Sex']\n",
    "#replaced male : 1 and female : 0"
   ]
  },
  {
   "cell_type": "code",
   "execution_count": 194,
   "metadata": {},
   "outputs": [
    {
     "data": {
      "text/plain": [
       "PassengerId      0\n",
       "Survived         0\n",
       "Pclass           0\n",
       "Name             0\n",
       "Sex              0\n",
       "Age            177\n",
       "SibSp            0\n",
       "Parch            0\n",
       "Ticket           0\n",
       "Fare             0\n",
       "Cabin          687\n",
       "Embarked         2\n",
       "dtype: int64"
      ]
     },
     "execution_count": 194,
     "metadata": {},
     "output_type": "execute_result"
    }
   ],
   "source": [
    "titanic1.isnull().sum()"
   ]
  },
  {
   "cell_type": "code",
   "execution_count": 195,
   "metadata": {},
   "outputs": [
    {
     "data": {
      "text/plain": [
       "PassengerId      0\n",
       "Survived         0\n",
       "Pclass           0\n",
       "Name             0\n",
       "Sex              0\n",
       "Age              0\n",
       "SibSp            0\n",
       "Parch            0\n",
       "Ticket           0\n",
       "Fare             0\n",
       "Cabin          687\n",
       "Embarked         2\n",
       "dtype: int64"
      ]
     },
     "execution_count": 195,
     "metadata": {},
     "output_type": "execute_result"
    }
   ],
   "source": [
    "#start with age \n",
    "titanic1['Age']=titanic1['Age'].fillna(titanic1['Age'].mean())\n",
    "titanic1.isnull().sum()"
   ]
  },
  {
   "cell_type": "code",
   "execution_count": 196,
   "metadata": {},
   "outputs": [
    {
     "data": {
      "text/plain": [
       "PassengerId    0\n",
       "Survived       0\n",
       "Pclass         0\n",
       "Name           0\n",
       "Sex            0\n",
       "Age            0\n",
       "SibSp          0\n",
       "Parch          0\n",
       "Ticket         0\n",
       "Fare           0\n",
       "Cabin          0\n",
       "Embarked       2\n",
       "dtype: int64"
      ]
     },
     "execution_count": 196,
     "metadata": {},
     "output_type": "execute_result"
    }
   ],
   "source": [
    "#capin replace\n",
    "titanic1['Cabin']=titanic1['Cabin'].fillna(titanic1['Cabin'].mode()[0])\n",
    "titanic1.isna().sum()"
   ]
  },
  {
   "cell_type": "code",
   "execution_count": 197,
   "metadata": {},
   "outputs": [
    {
     "data": {
      "text/plain": [
       "PassengerId    0\n",
       "Survived       0\n",
       "Pclass         0\n",
       "Name           0\n",
       "Sex            0\n",
       "Age            0\n",
       "SibSp          0\n",
       "Parch          0\n",
       "Ticket         0\n",
       "Fare           0\n",
       "Cabin          0\n",
       "Embarked       0\n",
       "dtype: int64"
      ]
     },
     "execution_count": 197,
     "metadata": {},
     "output_type": "execute_result"
    }
   ],
   "source": [
    "titanic1['Embarked']=titanic1['Embarked'].fillna(titanic1['Embarked'].mode()[0])\n",
    "titanic1.isna().sum()"
   ]
  },
  {
   "cell_type": "code",
   "execution_count": 198,
   "metadata": {},
   "outputs": [],
   "source": [
    "#data is cleaned now , then we search for outlier \n",
    "q1=titanic1['Fare'].quantile(0.25)\n",
    "q3=titanic1['Fare'].quantile(0.75)\n",
    "iqr =q3-q1\n"
   ]
  },
  {
   "cell_type": "code",
   "execution_count": 199,
   "metadata": {},
   "outputs": [
    {
     "name": "stdout",
     "output_type": "stream",
     "text": [
      "Outliers in Fare:\n",
      "     PassengerId  Survived  Pclass  \\\n",
      "1              2         1       1   \n",
      "27            28         0       1   \n",
      "31            32         1       1   \n",
      "34            35         0       1   \n",
      "52            53         1       1   \n",
      "..           ...       ...     ...   \n",
      "846          847         0       3   \n",
      "849          850         1       1   \n",
      "856          857         1       1   \n",
      "863          864         0       3   \n",
      "879          880         1       1   \n",
      "\n",
      "                                                  Name  Sex        Age  SibSp  \\\n",
      "1    Cumings, Mrs. John Bradley (Florence Briggs Th...    0  38.000000      1   \n",
      "27                      Fortune, Mr. Charles Alexander    1  19.000000      3   \n",
      "31      Spencer, Mrs. William Augustus (Marie Eugenie)    0  29.699118      1   \n",
      "34                             Meyer, Mr. Edgar Joseph    1  28.000000      1   \n",
      "52            Harper, Mrs. Henry Sleeper (Myna Haxtun)    0  49.000000      1   \n",
      "..                                                 ...  ...        ...    ...   \n",
      "846                           Sage, Mr. Douglas Bullen    1  29.699118      8   \n",
      "849       Goldenberg, Mrs. Samuel L (Edwiga Grabowska)    0  29.699118      1   \n",
      "856         Wick, Mrs. George Dennick (Mary Hitchcock)    0  45.000000      1   \n",
      "863                  Sage, Miss. Dorothy Edith \"Dolly\"    0  29.699118      8   \n",
      "879      Potter, Mrs. Thomas Jr (Lily Alexenia Wilson)    0  56.000000      0   \n",
      "\n",
      "     Parch    Ticket      Fare        Cabin Embarked  \n",
      "1        0  PC 17599   71.2833          C85        C  \n",
      "27       2     19950  263.0000  C23 C25 C27        S  \n",
      "31       0  PC 17569  146.5208          B78        C  \n",
      "34       0  PC 17604   82.1708      B96 B98        C  \n",
      "52       0  PC 17572   76.7292          D33        C  \n",
      "..     ...       ...       ...          ...      ...  \n",
      "846      2  CA. 2343   69.5500      B96 B98        S  \n",
      "849      0     17453   89.1042          C92        C  \n",
      "856      1     36928  164.8667      B96 B98        S  \n",
      "863      2  CA. 2343   69.5500      B96 B98        S  \n",
      "879      1     11767   83.1583          C50        C  \n",
      "\n",
      "[116 rows x 12 columns]\n"
     ]
    }
   ],
   "source": [
    "lower_bound = q1 - 1.5 * iqr\n",
    "upper_bound = q3 + 1.5 * iqr\n",
    "\n",
    "# Identify outliers\n",
    "outliers = titanic1[(titanic1['Fare'] < lower_bound) | (titanic1['Fare'] > upper_bound)]\n",
    "print(\"Outliers in Fare:\")\n",
    "print(outliers)"
   ]
  },
  {
   "cell_type": "code",
   "execution_count": 200,
   "metadata": {},
   "outputs": [],
   "source": [
    "titanic1 = titanic1[(titanic1['Fare'] > lower_bound) & (titanic1['Fare'] < upper_bound)]"
   ]
  },
  {
   "cell_type": "code",
   "execution_count": 201,
   "metadata": {},
   "outputs": [],
   "source": [
    "#data is cleaned now , then we search for outlier \n",
    "q1=titanic1['Age'].quantile(0.25)\n",
    "q3=titanic1['Age'].quantile(0.75)\n",
    "iqr =q3-q1\n"
   ]
  },
  {
   "cell_type": "code",
   "execution_count": 202,
   "metadata": {},
   "outputs": [
    {
     "name": "stdout",
     "output_type": "stream",
     "text": [
      "Outliers in Age:\n",
      "     PassengerId  Survived  Pclass                              Name  Sex  \\\n",
      "6              7         0       1           McCarthy, Mr. Timothy J    1   \n",
      "7              8         0       3    Palsson, Master. Gosta Leonard    1   \n",
      "11            12         1       1          Bonnell, Miss. Elizabeth    0   \n",
      "15            16         1       2  Hewlett, Mrs. (Mary D Kingcome)     0   \n",
      "16            17         0       3              Rice, Master. Eugene    1   \n",
      "..           ...       ...     ...                               ...  ...   \n",
      "803          804         1       3   Thomas, Master. Assad Alexander    1   \n",
      "824          825         0       3      Panula, Master. Urho Abraham    1   \n",
      "827          828         1       2             Mallet, Master. Andre    1   \n",
      "831          832         1       2   Richards, Master. George Sibley    1   \n",
      "851          852         0       3               Svensson, Mr. Johan    1   \n",
      "\n",
      "       Age  SibSp  Parch           Ticket     Fare    Cabin Embarked  \n",
      "6    54.00      0      0            17463  51.8625      E46        S  \n",
      "7     2.00      3      1           349909  21.0750  B96 B98        S  \n",
      "11   58.00      0      0           113783  26.5500     C103        S  \n",
      "15   55.00      0      0           248706  16.0000  B96 B98        S  \n",
      "16    2.00      4      1           382652  29.1250  B96 B98        Q  \n",
      "..     ...    ...    ...              ...      ...      ...      ...  \n",
      "803   0.42      0      1             2625   8.5167  B96 B98        C  \n",
      "824   2.00      4      1          3101295  39.6875  B96 B98        S  \n",
      "827   1.00      0      2  S.C./PARIS 2079  37.0042  B96 B98        C  \n",
      "831   0.83      1      1            29106  18.7500  B96 B98        S  \n",
      "851  74.00      0      0           347060   7.7750  B96 B98        S  \n",
      "\n",
      "[67 rows x 12 columns]\n"
     ]
    }
   ],
   "source": [
    "lower_bound = q1 - 1.5 * iqr\n",
    "upper_bound = q3 + 1.5 * iqr\n",
    "\n",
    "# Identify outliers\n",
    "outliers = titanic1[(titanic1['Age'] < lower_bound) | (titanic1['Age'] > upper_bound)]\n",
    "print(\"Outliers in Age:\")\n",
    "print(outliers)"
   ]
  },
  {
   "cell_type": "code",
   "execution_count": 203,
   "metadata": {},
   "outputs": [],
   "source": [
    "titanic1 = titanic1[(titanic1['Age'] > lower_bound) & (titanic1['Age'] < upper_bound)]"
   ]
  },
  {
   "cell_type": "code",
   "execution_count": 204,
   "metadata": {},
   "outputs": [],
   "source": [
    "cleaned_titanic1 = particle_swarm_optimization(titanic1)\n",
    "\n",
    "cleaned_titanic1 = pd.get_dummies(cleaned_titanic1, drop_first=True)\n",
    "\n",
    "X = cleaned_titanic1.drop('Survived', axis=1, errors='ignore')  \n",
    "if 'Survived' in cleaned_titanic1.columns:\n",
    "    y = cleaned_titanic1['Survived']  \n",
    "else:\n",
    "    print(\"Error: Target column 'Churn_Yes' not found.\") \n",
    "    exit()"
   ]
  },
  {
   "cell_type": "code",
   "execution_count": 205,
   "metadata": {},
   "outputs": [],
   "source": [
    "X_train, X_test, y_train, y_test = train_test_split(X, y, test_size=0.2, random_state=42)\n",
    "\n",
    "model = RandomForestClassifier(random_state=42)  \n",
    "model.fit(X_train, y_train)  \n",
    "\n",
    "y_pred = model.predict(X_test)  "
   ]
  },
  {
   "cell_type": "code",
   "execution_count": 206,
   "metadata": {},
   "outputs": [
    {
     "name": "stdout",
     "output_type": "stream",
     "text": [
      "accurecy :  0.8428571428571429\n",
      "precision :  0.9333333333333333\n",
      "recall :  0.5833333333333334\n",
      "F1 Score :  0.717948717948718\n"
     ]
    }
   ],
   "source": [
    "accuracy = accuracy_score(y_test, y_pred)\n",
    "precision = precision_score(y_test, y_pred, average='binary')\n",
    "recall = recall_score(y_test, y_pred, average='binary')\n",
    "f1 = f1_score(y_test, y_pred, average='binary')\n",
    "\n",
    "print(\"accurecy : \" , accuracy)\n",
    "print(\"precision : \" , precision)\n",
    "print(\"recall : \" ,  recall)\n",
    "print(\"F1 Score : \" , f1)"
   ]
  },
  {
   "cell_type": "code",
   "execution_count": 207,
   "metadata": {},
   "outputs": [],
   "source": [
    "titanic2 = pd.read_csv(\"C:/Users/kareem/Downloads/titanic-data.csv\")"
   ]
  },
  {
   "cell_type": "code",
   "execution_count": 208,
   "metadata": {},
   "outputs": [],
   "source": [
    "cleaned_titanic2 = particle_swarm_optimization(titanic2)\n",
    "\n",
    "cleaned_titanic2= pd.get_dummies(cleaned_titanic2, drop_first=True)\n",
    "\n",
    "X = cleaned_titanic2.drop('Survived', axis=1, errors='ignore')  \n",
    "if 'Survived' in cleaned_titanic2.columns:\n",
    "    y = cleaned_titanic2['Survived']  \n",
    "else:\n",
    "    print(\"Error: Target column 'Churn_Yes' not found.\") \n",
    "    exit()"
   ]
  },
  {
   "cell_type": "code",
   "execution_count": 209,
   "metadata": {},
   "outputs": [],
   "source": [
    "X_train, X_test, y_train, y_test = train_test_split(X, y, test_size=0.2, random_state=42)\n",
    "\n",
    "model = RandomForestClassifier(random_state=42)  \n",
    "model.fit(X_train, y_train)  \n",
    "\n",
    "y_pred = model.predict(X_test) "
   ]
  },
  {
   "cell_type": "code",
   "execution_count": 222,
   "metadata": {},
   "outputs": [
    {
     "name": "stdout",
     "output_type": "stream",
     "text": [
      "accurecy :  0.797752808988764\n",
      "precision :  0.8448275862068966\n",
      "recall :  0.6447368421052632\n",
      "F1 Score :  0.7313432835820896\n"
     ]
    }
   ],
   "source": [
    "accuracy = accuracy_score(y_test, y_pred)\n",
    "precision = precision_score(y_test, y_pred)\n",
    "recall = recall_score(y_test, y_pred)\n",
    "f1 = f1_score(y_test, y_pred )\n",
    "\n",
    "print(\"accurecy : \" , accuracy)\n",
    "print(\"precision : \" , precision)\n",
    "print(\"recall : \" ,  recall)\n",
    "print(\"F1 Score : \" , f1)"
   ]
  },
  {
   "cell_type": "code",
   "execution_count": null,
   "metadata": {},
   "outputs": [],
   "source": []
  }
 ],
 "metadata": {
  "kernelspec": {
   "display_name": "base",
   "language": "python",
   "name": "python3"
  },
  "language_info": {
   "codemirror_mode": {
    "name": "ipython",
    "version": 3
   },
   "file_extension": ".py",
   "mimetype": "text/x-python",
   "name": "python",
   "nbconvert_exporter": "python",
   "pygments_lexer": "ipython3",
   "version": "3.12.4"
  }
 },
 "nbformat": 4,
 "nbformat_minor": 2
}
